{
 "cells": [
  {
   "cell_type": "markdown",
   "id": "b114de65-14fa-4562-883d-2bec18593fee",
   "metadata": {},
   "source": [
    "# lsad.ipynb -- logseq assets downloader\n",
    "\n",
    "Go through all the .md files in a logseq graph, find all uploaded images and pdf files, download them to the ../assets/ folder, and change the link to the local file.\n",
    "\n",
    "Typical image link: `![](https://firebasestorage.googleapis.com/v0/b/firescript-577a2.appspot.com/o/imgs%2Fapp%2Fmorawa%2FGhQGPfOOrV.png?alt=media&token=4abeaf62-63c5-4859-97a5-91ace19e5dd7)`  \n",
    "Should be changed to `![](<../assets/<page name>_img<image number>.(png|jpg))`  \n",
    "\n",
    "Typical pdf link: `{{pdf(https://firebasestorage.googleapis.com/v0/b/firescript-577a2.appspot.com/o/imgs%2Fapp%2Fmorawa%2FgAFZMChTVX.%20Standard%20notations%20for%20Deep%20Learning.pdf?alt=media&token=3ce4577b-bc6a-431c-9988-a40c20104af2)}}`  \n",
    "Should be changed to `![pdf](../assets/<page name>_pdf<pdf number>.pdf)`\n",
    "\n",
    "It is expected that the folder with the graph will have a `pages` and an `assets` folder.  \n",
    "Only one link per line is handled. Only images with the `.png`, `.jpg`, or `.jpeg` extensions are handled.\n",
    "\n",
    "---\n",
    "To use this script, first make a copy backup copy of your graph and store it somewhere else.  \n",
    "Next set the right value in the `path` variable of the second cell. This variable\n",
    "should be the path to the `pages` folder in the Logseq graph.  \n",
    "Once this is done run all four cells. The fourth cell will print for each file the line substitutions that would be done.\n",
    "If these substitutions look OK, then set `dry_run = False` in the fourth cell and run it again."
   ]
  },
  {
   "cell_type": "code",
   "execution_count": null,
   "id": "620478f2-f3d1-40a8-a613-c10af971e01d",
   "metadata": {},
   "outputs": [],
   "source": [
    "import os\n",
    "import requests\n",
    "import re"
   ]
  },
  {
   "cell_type": "code",
   "execution_count": null,
   "id": "f8f2096e-f1e1-45a2-b3d6-28a78ebdbfb1",
   "metadata": {},
   "outputs": [],
   "source": [
    "path = \"/home/z/Dropbox (OIST)/logseq/morawa/pages\" # path for the \"pages\" folder in the graph\n",
    "%cd $path\n",
    "%pwd"
   ]
  },
  {
   "cell_type": "code",
   "execution_count": null,
   "id": "7c52ed48-fa0e-413c-b8e2-c01b7f4b3aed",
   "metadata": {},
   "outputs": [],
   "source": [
    "def download_file(url, save_path):\n",
    "    try:\n",
    "        response = requests.get(url)\n",
    "        response.raise_for_status()  # Check for any errors during download\n",
    "        \n",
    "        with open(save_path, 'wb') as file:\n",
    "            file.write(response.content)\n",
    "            \n",
    "        print(f\"File downloaded and saved as '{save_path}'\")\n",
    "    except requests.exceptions.RequestException as e:\n",
    "        print(f\"Error downloading the file: {e}\")"
   ]
  },
  {
   "cell_type": "code",
   "execution_count": null,
   "id": "9e558bf2-c0ce-4a06-90b1-d3a343453f81",
   "metadata": {},
   "outputs": [],
   "source": [
    "# set dry_run = False after checking the line substitutions that will be made\n",
    "\n",
    "dry_run = True\n",
    "\n",
    "pdf_re = re.compile(r\"(.*){{pdf[ ]*(.*)}}\")\n",
    "img_re = re.compile(r\"(.*)(!\\[\\])\\((.*)\\)\")\n",
    "\n",
    "for filename in os.listdir(path):\n",
    "    pdf_counter = 0\n",
    "    img_counter = 0\n",
    "    file_path = os.path.join(path, filename)\n",
    "\n",
    "    with open(file_path, 'r') as file:\n",
    "        lines = file.readlines()\n",
    "\n",
    "    new_lines = []        \n",
    "    for line in lines:\n",
    "        if pdf_re.match(line):\n",
    "            pdf_counter += 1\n",
    "            pdf_match = pdf_re.match(line)\n",
    "            pdf_url = pdf_match[2]\n",
    "            # print(f\"pdf match: {pdf_url}\")\n",
    "            save_name = filename.split('.')[0] + f\"_pdf{pdf_counter}.pdf\"\n",
    "            save_path = os.path.join('../assets/', save_name)\n",
    "            # print(f\"save path: {save_path}\")\n",
    "            new_line = line.replace(pdf_match[0], pdf_match[1] + f\"![pdf]({save_path})\")\n",
    "            print(line)\n",
    "            print(new_line)\n",
    "            new_lines.append(new_line)\n",
    "            if not dry_run:\n",
    "                download_file(pdf_url, save_path)\n",
    "        elif img_re.match(line):\n",
    "            img_counter += 1\n",
    "            img_match = img_re.match(line)\n",
    "            img_url = img_match[3]\n",
    "            # print(f\"img match: {img_url}\")\n",
    "            if \".png\" in img_url:\n",
    "                ext = \".png\"    \n",
    "            elif \".jpg\" in img_url or \".jpeg\" in img_url:\n",
    "                ext = \".jpg\"\n",
    "            else:\n",
    "                raise Exception(\"Unknown format for putative image file\")\n",
    "            save_name = filename.split('.')[0] + f\"_img{img_counter}\" + ext\n",
    "            save_path = os.path.join('../assets/', save_name)\n",
    "            # print(f\"save path: {save_path}\")\n",
    "            new_line = line.replace(img_match[0], img_match[1] + f\"![]({save_path})\")\n",
    "            print(line)\n",
    "            print(new_line)\n",
    "            new_lines.append(new_line)\n",
    "            if not dry_run:\n",
    "                download_file(img_url, save_path)\n",
    "        else:\n",
    "            new_lines.append(line)\n",
    "    if not dry_run:\n",
    "        with open(file_path, 'w') as file:\n",
    "            file.writelines(new_lines)\n",
    "            \n",
    "    if pdf_counter > 0:\n",
    "        print(f\"---------(pdf) {filename}: {pdf_counter} --------\\n\")\n",
    "    if img_counter > 0:\n",
    "        print(f\"---------(img) {filename}: {img_counter} --------\\n\")"
   ]
  },
  {
   "cell_type": "code",
   "execution_count": null,
   "id": "3f584595-5a79-475f-977e-c9a462e8d50a",
   "metadata": {},
   "outputs": [],
   "source": []
  }
 ],
 "metadata": {
  "kernelspec": {
   "display_name": "Python 3 (ipykernel)",
   "language": "python",
   "name": "python3"
  },
  "language_info": {
   "codemirror_mode": {
    "name": "ipython",
    "version": 3
   },
   "file_extension": ".py",
   "mimetype": "text/x-python",
   "name": "python",
   "nbconvert_exporter": "python",
   "pygments_lexer": "ipython3",
   "version": "3.8.10"
  }
 },
 "nbformat": 4,
 "nbformat_minor": 5
}
